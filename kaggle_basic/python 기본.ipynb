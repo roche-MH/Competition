{
 "cells": [
  {
   "cell_type": "markdown",
   "metadata": {},
   "source": [
    "# python 기본 연산"
   ]
  },
  {
   "cell_type": "code",
   "execution_count": 1,
   "metadata": {},
   "outputs": [
    {
     "data": {
      "text/plain": [
       "27"
      ]
     },
     "execution_count": 1,
     "metadata": {},
     "output_type": "execute_result"
    }
   ],
   "source": [
    "3 * (7+2)"
   ]
  },
  {
   "cell_type": "code",
   "execution_count": 3,
   "metadata": {},
   "outputs": [
    {
     "data": {
      "text/plain": [
       "2.5"
      ]
     },
     "execution_count": 3,
     "metadata": {},
     "output_type": "execute_result"
    }
   ],
   "source": [
    "z = 5/2\n",
    "z"
   ]
  },
  {
   "cell_type": "code",
   "execution_count": 4,
   "metadata": {},
   "outputs": [
    {
     "name": "stdout",
     "output_type": "stream",
     "text": [
      "True\n"
     ]
    }
   ],
   "source": [
    "s='abc'\n",
    "x='abc'\n",
    "print(s==x)"
   ]
  },
  {
   "cell_type": "code",
   "execution_count": 5,
   "metadata": {},
   "outputs": [
    {
     "name": "stdout",
     "output_type": "stream",
     "text": [
      "height: 1.79\n",
      "weight: 68.7\n"
     ]
    }
   ],
   "source": [
    "height = 1.79\n",
    "weight = 68.7\n",
    "print('height:',height)\n",
    "print('weight:',weight)"
   ]
  },
  {
   "cell_type": "code",
   "execution_count": 6,
   "metadata": {},
   "outputs": [
    {
     "name": "stdout",
     "output_type": "stream",
     "text": [
      "bmi: 21.44127836209856\n"
     ]
    }
   ],
   "source": [
    "bmi = weight/height **2\n",
    "print('bmi:',bmi)"
   ]
  },
  {
   "cell_type": "code",
   "execution_count": 7,
   "metadata": {},
   "outputs": [
    {
     "name": "stdout",
     "output_type": "stream",
     "text": [
      "x,y : 2 3\n"
     ]
    }
   ],
   "source": [
    "x,y=2,3\n",
    "print(\"x,y :\" ,x,y)"
   ]
  },
  {
   "cell_type": "code",
   "execution_count": 8,
   "metadata": {},
   "outputs": [
    {
     "name": "stdout",
     "output_type": "stream",
     "text": [
      "a,b : [1, 2, 3, 4] [1, 2, 3, 4]\n"
     ]
    }
   ],
   "source": [
    "a=[1,2,3]\n",
    "b=a\n",
    "a.append(4)\n",
    "print(\"a,b :\",a,b)"
   ]
  },
  {
   "cell_type": "code",
   "execution_count": 9,
   "metadata": {},
   "outputs": [
    {
     "name": "stdout",
     "output_type": "stream",
     "text": [
      "x,y: 3 3\n",
      "x,y: 3 4\n"
     ]
    }
   ],
   "source": [
    "x=3\n",
    "y=x\n",
    "print('x,y:',x,y)\n",
    "y = 4\n",
    "print('x,y:',x,y)"
   ]
  },
  {
   "cell_type": "code",
   "execution_count": 10,
   "metadata": {},
   "outputs": [
    {
     "name": "stdout",
     "output_type": "stream",
     "text": [
      "x,y :  hassan hassan\n",
      "x,y: hassan amin\n",
      "a,b :  [1, 2, 3] [1, 2, 3]\n",
      "a,b :  [1, 2, 3] ['a', 'b', 'c']\n",
      "a,b :  ['a', 'b', 'c', 4] ['a', 'b', 'c', 4]\n",
      "Type of a,b,x,y <class 'list'> <class 'list'> <class 'str'> <class 'str'>\n"
     ]
    }
   ],
   "source": [
    "x = 'hassan'\n",
    "y=x\n",
    "print('x,y : ',x,y)\n",
    "y='amin'\n",
    "print('x,y:',x,y)\n",
    "\n",
    "a=''\n",
    "b=''\n",
    "a=[1,2,3]\n",
    "b=a\n",
    "print(\"a,b : \", a,b)\n",
    "b=['a','b','c']\n",
    "print(\"a,b : \", a,b)\n",
    "a=b\n",
    "b.append(4) \n",
    "print(\"a,b : \", a,b)\n",
    "\n",
    "print(\"Type of a,b,x,y\", type(a),type(b),type(x),type(y))"
   ]
  },
  {
   "cell_type": "code",
   "execution_count": 11,
   "metadata": {},
   "outputs": [
    {
     "name": "stdout",
     "output_type": "stream",
     "text": [
      "['liz', 123, 'emma', 134, 'john', 546]\n",
      "134\n",
      "john\n",
      "134\n",
      "['emma', 134]\n",
      "['emma', 134, 'john', 546]\n",
      "['liz', 123, 'emma', 134]\n"
     ]
    }
   ],
   "source": [
    "fam = ['liz',123,'emma', 134,'john',546]\n",
    "print(fam)\n",
    "print(fam[3])\n",
    "print(fam[-2])\n",
    "print(fam[-3])\n",
    "\n",
    "print(fam[2:4])\n",
    "print(fam[2:])\n",
    "print(fam[:4])"
   ]
  },
  {
   "cell_type": "code",
   "execution_count": 12,
   "metadata": {},
   "outputs": [
    {
     "name": "stdout",
     "output_type": "stream",
     "text": [
      "['liz', 123, 'emma', 134, 'john', 546]\n",
      "['liz', 123, 'emma', 134, 'john', 777]\n",
      "['fiz', 444, 'emma', 134, 'john', 777]\n"
     ]
    }
   ],
   "source": [
    "fam = ['liz',123,'emma', 134,'john',546]\n",
    "print(fam)\n",
    "fam[-1] = 777\n",
    "print(fam)\n",
    "fam[0:2]=['fiz',444]\n",
    "print(fam)"
   ]
  },
  {
   "cell_type": "code",
   "execution_count": 13,
   "metadata": {},
   "outputs": [
    {
     "name": "stdout",
     "output_type": "stream",
     "text": [
      "['liz', 123, 'emma', 134, 'john', 546]\n",
      "['liz', 123, 'emma', 134, 'john', 546, 'nano', 666]\n",
      "['liz', 123, 'emma', 134, 'john', 546, 'nano']\n"
     ]
    }
   ],
   "source": [
    "fam = ['liz',123,'emma', 134,'john',546]\n",
    "print(fam)\n",
    "fam_ext = fam + ['nano',666]\n",
    "print(fam_ext)\n",
    "del(fam_ext[-1])\n",
    "print(fam_ext)"
   ]
  },
  {
   "cell_type": "code",
   "execution_count": 15,
   "metadata": {},
   "outputs": [
    {
     "name": "stdout",
     "output_type": "stream",
     "text": [
      "Hello from a function\n"
     ]
    }
   ],
   "source": [
    "def my_function():\n",
    "  print(\"Hello from a function\")\n",
    "\n",
    "my_function()"
   ]
  },
  {
   "cell_type": "code",
   "execution_count": 16,
   "metadata": {},
   "outputs": [
    {
     "name": "stdout",
     "output_type": "stream",
     "text": [
      "Emil Refsnes\n",
      "Tobias Refsnes\n",
      "Linus Refsnes\n"
     ]
    }
   ],
   "source": [
    "def my_function(fname):\n",
    "  print(fname + \" Refsnes\")\n",
    "\n",
    "my_function(\"Emil\")\n",
    "my_function(\"Tobias\")\n",
    "my_function(\"Linus\")"
   ]
  },
  {
   "cell_type": "code",
   "execution_count": 17,
   "metadata": {},
   "outputs": [
    {
     "name": "stdout",
     "output_type": "stream",
     "text": [
      "I am from Sweden\n",
      "I am from India\n",
      "I am from Norway\n",
      "I am from Brazil\n"
     ]
    }
   ],
   "source": [
    "def my_function(country = \"Norway\"):\n",
    "  print(\"I am from \" + country)\n",
    "\n",
    "my_function(\"Sweden\")\n",
    "my_function(\"India\")\n",
    "my_function()\n",
    "my_function(\"Brazil\")"
   ]
  },
  {
   "cell_type": "code",
   "execution_count": 18,
   "metadata": {},
   "outputs": [
    {
     "name": "stdout",
     "output_type": "stream",
     "text": [
      "15\n",
      "25\n",
      "45\n"
     ]
    }
   ],
   "source": [
    "def my_function(x):\n",
    "  return 5 * x\n",
    "\n",
    "print(my_function(3))\n",
    "print(my_function(5))\n",
    "print(my_function(9))"
   ]
  }
 ],
 "metadata": {
  "kernelspec": {
   "display_name": "Python 3",
   "language": "python",
   "name": "python3"
  },
  "language_info": {
   "codemirror_mode": {
    "name": "ipython",
    "version": 3
   },
   "file_extension": ".py",
   "mimetype": "text/x-python",
   "name": "python",
   "nbconvert_exporter": "python",
   "pygments_lexer": "ipython3",
   "version": "3.7.4"
  }
 },
 "nbformat": 4,
 "nbformat_minor": 2
}
