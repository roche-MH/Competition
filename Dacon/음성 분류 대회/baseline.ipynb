{
  "nbformat": 4,
  "nbformat_minor": 0,
  "metadata": {
    "colab": {
      "name": "Untitled4.ipynb",
      "provenance": []
    },
    "kernelspec": {
      "name": "python3",
      "display_name": "Python 3"
    },
    "accelerator": "GPU",
    "widgets": {
      "application/vnd.jupyter.widget-state+json": {
        "a9e600b08d6c4710b2c74e71b8667492": {
          "model_module": "@jupyter-widgets/controls",
          "model_name": "HBoxModel",
          "state": {
            "_view_name": "HBoxView",
            "_dom_classes": [],
            "_model_name": "HBoxModel",
            "_view_module": "@jupyter-widgets/controls",
            "_model_module_version": "1.5.0",
            "_view_count": null,
            "_view_module_version": "1.5.0",
            "box_style": "",
            "layout": "IPY_MODEL_455309e11fd64ac6a874c3c0d416a354",
            "_model_module": "@jupyter-widgets/controls",
            "children": [
              "IPY_MODEL_dec725d453c7479e80790b4b97e2f298",
              "IPY_MODEL_d0739e047d1a4b5985aa137b19114773"
            ]
          }
        },
        "455309e11fd64ac6a874c3c0d416a354": {
          "model_module": "@jupyter-widgets/base",
          "model_name": "LayoutModel",
          "state": {
            "_view_name": "LayoutView",
            "grid_template_rows": null,
            "right": null,
            "justify_content": null,
            "_view_module": "@jupyter-widgets/base",
            "overflow": null,
            "_model_module_version": "1.2.0",
            "_view_count": null,
            "flex_flow": null,
            "width": null,
            "min_width": null,
            "border": null,
            "align_items": null,
            "bottom": null,
            "_model_module": "@jupyter-widgets/base",
            "top": null,
            "grid_column": null,
            "overflow_y": null,
            "overflow_x": null,
            "grid_auto_flow": null,
            "grid_area": null,
            "grid_template_columns": null,
            "flex": null,
            "_model_name": "LayoutModel",
            "justify_items": null,
            "grid_row": null,
            "max_height": null,
            "align_content": null,
            "visibility": null,
            "align_self": null,
            "height": null,
            "min_height": null,
            "padding": null,
            "grid_auto_rows": null,
            "grid_gap": null,
            "max_width": null,
            "order": null,
            "_view_module_version": "1.2.0",
            "grid_template_areas": null,
            "object_position": null,
            "object_fit": null,
            "grid_auto_columns": null,
            "margin": null,
            "display": null,
            "left": null
          }
        },
        "dec725d453c7479e80790b4b97e2f298": {
          "model_module": "@jupyter-widgets/controls",
          "model_name": "FloatProgressModel",
          "state": {
            "_view_name": "ProgressView",
            "style": "IPY_MODEL_7d19e9c8d773491c9743113aabce9138",
            "_dom_classes": [],
            "description": "100%",
            "_model_name": "FloatProgressModel",
            "bar_style": "success",
            "max": 4,
            "_view_module": "@jupyter-widgets/controls",
            "_model_module_version": "1.5.0",
            "value": 4,
            "_view_count": null,
            "_view_module_version": "1.5.0",
            "orientation": "horizontal",
            "min": 0,
            "description_tooltip": null,
            "_model_module": "@jupyter-widgets/controls",
            "layout": "IPY_MODEL_b4d1a216256842d09a2c2ce58a178061"
          }
        },
        "d0739e047d1a4b5985aa137b19114773": {
          "model_module": "@jupyter-widgets/controls",
          "model_name": "HTMLModel",
          "state": {
            "_view_name": "HTMLView",
            "style": "IPY_MODEL_612a1f37491b41e89cfe99bf4a801495",
            "_dom_classes": [],
            "description": "",
            "_model_name": "HTMLModel",
            "placeholder": "​",
            "_view_module": "@jupyter-widgets/controls",
            "_model_module_version": "1.5.0",
            "value": " 4/4 [00:51&lt;00:00, 12.92s/it]",
            "_view_count": null,
            "_view_module_version": "1.5.0",
            "description_tooltip": null,
            "_model_module": "@jupyter-widgets/controls",
            "layout": "IPY_MODEL_fea6df3653e04587be456a4d59b3b46a"
          }
        },
        "7d19e9c8d773491c9743113aabce9138": {
          "model_module": "@jupyter-widgets/controls",
          "model_name": "ProgressStyleModel",
          "state": {
            "_view_name": "StyleView",
            "_model_name": "ProgressStyleModel",
            "description_width": "initial",
            "_view_module": "@jupyter-widgets/base",
            "_model_module_version": "1.5.0",
            "_view_count": null,
            "_view_module_version": "1.2.0",
            "bar_color": null,
            "_model_module": "@jupyter-widgets/controls"
          }
        },
        "b4d1a216256842d09a2c2ce58a178061": {
          "model_module": "@jupyter-widgets/base",
          "model_name": "LayoutModel",
          "state": {
            "_view_name": "LayoutView",
            "grid_template_rows": null,
            "right": null,
            "justify_content": null,
            "_view_module": "@jupyter-widgets/base",
            "overflow": null,
            "_model_module_version": "1.2.0",
            "_view_count": null,
            "flex_flow": null,
            "width": null,
            "min_width": null,
            "border": null,
            "align_items": null,
            "bottom": null,
            "_model_module": "@jupyter-widgets/base",
            "top": null,
            "grid_column": null,
            "overflow_y": null,
            "overflow_x": null,
            "grid_auto_flow": null,
            "grid_area": null,
            "grid_template_columns": null,
            "flex": null,
            "_model_name": "LayoutModel",
            "justify_items": null,
            "grid_row": null,
            "max_height": null,
            "align_content": null,
            "visibility": null,
            "align_self": null,
            "height": null,
            "min_height": null,
            "padding": null,
            "grid_auto_rows": null,
            "grid_gap": null,
            "max_width": null,
            "order": null,
            "_view_module_version": "1.2.0",
            "grid_template_areas": null,
            "object_position": null,
            "object_fit": null,
            "grid_auto_columns": null,
            "margin": null,
            "display": null,
            "left": null
          }
        },
        "612a1f37491b41e89cfe99bf4a801495": {
          "model_module": "@jupyter-widgets/controls",
          "model_name": "DescriptionStyleModel",
          "state": {
            "_view_name": "StyleView",
            "_model_name": "DescriptionStyleModel",
            "description_width": "",
            "_view_module": "@jupyter-widgets/base",
            "_model_module_version": "1.5.0",
            "_view_count": null,
            "_view_module_version": "1.2.0",
            "_model_module": "@jupyter-widgets/controls"
          }
        },
        "fea6df3653e04587be456a4d59b3b46a": {
          "model_module": "@jupyter-widgets/base",
          "model_name": "LayoutModel",
          "state": {
            "_view_name": "LayoutView",
            "grid_template_rows": null,
            "right": null,
            "justify_content": null,
            "_view_module": "@jupyter-widgets/base",
            "overflow": null,
            "_model_module_version": "1.2.0",
            "_view_count": null,
            "flex_flow": null,
            "width": null,
            "min_width": null,
            "border": null,
            "align_items": null,
            "bottom": null,
            "_model_module": "@jupyter-widgets/base",
            "top": null,
            "grid_column": null,
            "overflow_y": null,
            "overflow_x": null,
            "grid_auto_flow": null,
            "grid_area": null,
            "grid_template_columns": null,
            "flex": null,
            "_model_name": "LayoutModel",
            "justify_items": null,
            "grid_row": null,
            "max_height": null,
            "align_content": null,
            "visibility": null,
            "align_self": null,
            "height": null,
            "min_height": null,
            "padding": null,
            "grid_auto_rows": null,
            "grid_gap": null,
            "max_width": null,
            "order": null,
            "_view_module_version": "1.2.0",
            "grid_template_areas": null,
            "object_position": null,
            "object_fit": null,
            "grid_auto_columns": null,
            "margin": null,
            "display": null,
            "left": null
          }
        },
        "8b8092339f194d9db2e59f126140ff00": {
          "model_module": "@jupyter-widgets/controls",
          "model_name": "HBoxModel",
          "state": {
            "_view_name": "HBoxView",
            "_dom_classes": [],
            "_model_name": "HBoxModel",
            "_view_module": "@jupyter-widgets/controls",
            "_model_module_version": "1.5.0",
            "_view_count": null,
            "_view_module_version": "1.5.0",
            "box_style": "",
            "layout": "IPY_MODEL_c217b88380d0401bad94a6e9c0c1a162",
            "_model_module": "@jupyter-widgets/controls",
            "children": [
              "IPY_MODEL_db600a71988a43389423f98ca2f46613",
              "IPY_MODEL_3feeb436563f4c80b110a1352e79f869"
            ]
          }
        },
        "c217b88380d0401bad94a6e9c0c1a162": {
          "model_module": "@jupyter-widgets/base",
          "model_name": "LayoutModel",
          "state": {
            "_view_name": "LayoutView",
            "grid_template_rows": null,
            "right": null,
            "justify_content": null,
            "_view_module": "@jupyter-widgets/base",
            "overflow": null,
            "_model_module_version": "1.2.0",
            "_view_count": null,
            "flex_flow": null,
            "width": null,
            "min_width": null,
            "border": null,
            "align_items": null,
            "bottom": null,
            "_model_module": "@jupyter-widgets/base",
            "top": null,
            "grid_column": null,
            "overflow_y": null,
            "overflow_x": null,
            "grid_auto_flow": null,
            "grid_area": null,
            "grid_template_columns": null,
            "flex": null,
            "_model_name": "LayoutModel",
            "justify_items": null,
            "grid_row": null,
            "max_height": null,
            "align_content": null,
            "visibility": null,
            "align_self": null,
            "height": null,
            "min_height": null,
            "padding": null,
            "grid_auto_rows": null,
            "grid_gap": null,
            "max_width": null,
            "order": null,
            "_view_module_version": "1.2.0",
            "grid_template_areas": null,
            "object_position": null,
            "object_fit": null,
            "grid_auto_columns": null,
            "margin": null,
            "display": null,
            "left": null
          }
        },
        "db600a71988a43389423f98ca2f46613": {
          "model_module": "@jupyter-widgets/controls",
          "model_name": "FloatProgressModel",
          "state": {
            "_view_name": "ProgressView",
            "style": "IPY_MODEL_273afa3eae6440449da38c0845f745f2",
            "_dom_classes": [],
            "description": "100%",
            "_model_name": "FloatProgressModel",
            "bar_style": "success",
            "max": 2,
            "_view_module": "@jupyter-widgets/controls",
            "_model_module_version": "1.5.0",
            "value": 2,
            "_view_count": null,
            "_view_module_version": "1.5.0",
            "orientation": "horizontal",
            "min": 0,
            "description_tooltip": null,
            "_model_module": "@jupyter-widgets/controls",
            "layout": "IPY_MODEL_4fa3aefacdbc4950bd87b36d9fed3952"
          }
        },
        "3feeb436563f4c80b110a1352e79f869": {
          "model_module": "@jupyter-widgets/controls",
          "model_name": "HTMLModel",
          "state": {
            "_view_name": "HTMLView",
            "style": "IPY_MODEL_5246750bc2d245c1a72d3758d64b1c3e",
            "_dom_classes": [],
            "description": "",
            "_model_name": "HTMLModel",
            "placeholder": "​",
            "_view_module": "@jupyter-widgets/controls",
            "_model_module_version": "1.5.0",
            "value": " 2/2 [05:02&lt;00:00, 151.09s/it]",
            "_view_count": null,
            "_view_module_version": "1.5.0",
            "description_tooltip": null,
            "_model_module": "@jupyter-widgets/controls",
            "layout": "IPY_MODEL_2a3db867179a4bfc86fd00613d67d862"
          }
        },
        "273afa3eae6440449da38c0845f745f2": {
          "model_module": "@jupyter-widgets/controls",
          "model_name": "ProgressStyleModel",
          "state": {
            "_view_name": "StyleView",
            "_model_name": "ProgressStyleModel",
            "description_width": "initial",
            "_view_module": "@jupyter-widgets/base",
            "_model_module_version": "1.5.0",
            "_view_count": null,
            "_view_module_version": "1.2.0",
            "bar_color": null,
            "_model_module": "@jupyter-widgets/controls"
          }
        },
        "4fa3aefacdbc4950bd87b36d9fed3952": {
          "model_module": "@jupyter-widgets/base",
          "model_name": "LayoutModel",
          "state": {
            "_view_name": "LayoutView",
            "grid_template_rows": null,
            "right": null,
            "justify_content": null,
            "_view_module": "@jupyter-widgets/base",
            "overflow": null,
            "_model_module_version": "1.2.0",
            "_view_count": null,
            "flex_flow": null,
            "width": null,
            "min_width": null,
            "border": null,
            "align_items": null,
            "bottom": null,
            "_model_module": "@jupyter-widgets/base",
            "top": null,
            "grid_column": null,
            "overflow_y": null,
            "overflow_x": null,
            "grid_auto_flow": null,
            "grid_area": null,
            "grid_template_columns": null,
            "flex": null,
            "_model_name": "LayoutModel",
            "justify_items": null,
            "grid_row": null,
            "max_height": null,
            "align_content": null,
            "visibility": null,
            "align_self": null,
            "height": null,
            "min_height": null,
            "padding": null,
            "grid_auto_rows": null,
            "grid_gap": null,
            "max_width": null,
            "order": null,
            "_view_module_version": "1.2.0",
            "grid_template_areas": null,
            "object_position": null,
            "object_fit": null,
            "grid_auto_columns": null,
            "margin": null,
            "display": null,
            "left": null
          }
        },
        "5246750bc2d245c1a72d3758d64b1c3e": {
          "model_module": "@jupyter-widgets/controls",
          "model_name": "DescriptionStyleModel",
          "state": {
            "_view_name": "StyleView",
            "_model_name": "DescriptionStyleModel",
            "description_width": "",
            "_view_module": "@jupyter-widgets/base",
            "_model_module_version": "1.5.0",
            "_view_count": null,
            "_view_module_version": "1.2.0",
            "_model_module": "@jupyter-widgets/controls"
          }
        },
        "2a3db867179a4bfc86fd00613d67d862": {
          "model_module": "@jupyter-widgets/base",
          "model_name": "LayoutModel",
          "state": {
            "_view_name": "LayoutView",
            "grid_template_rows": null,
            "right": null,
            "justify_content": null,
            "_view_module": "@jupyter-widgets/base",
            "overflow": null,
            "_model_module_version": "1.2.0",
            "_view_count": null,
            "flex_flow": null,
            "width": null,
            "min_width": null,
            "border": null,
            "align_items": null,
            "bottom": null,
            "_model_module": "@jupyter-widgets/base",
            "top": null,
            "grid_column": null,
            "overflow_y": null,
            "overflow_x": null,
            "grid_auto_flow": null,
            "grid_area": null,
            "grid_template_columns": null,
            "flex": null,
            "_model_name": "LayoutModel",
            "justify_items": null,
            "grid_row": null,
            "max_height": null,
            "align_content": null,
            "visibility": null,
            "align_self": null,
            "height": null,
            "min_height": null,
            "padding": null,
            "grid_auto_rows": null,
            "grid_gap": null,
            "max_width": null,
            "order": null,
            "_view_module_version": "1.2.0",
            "grid_template_areas": null,
            "object_position": null,
            "object_fit": null,
            "grid_auto_columns": null,
            "margin": null,
            "display": null,
            "left": null
          }
        }
      }
    }
  },
  "cells": [
    {
      "cell_type": "code",
      "metadata": {
        "id": "g-zwAMAJEjHG",
        "colab_type": "code",
        "colab": {}
      },
      "source": [
        "import requests\n",
        "\n",
        "import os\n",
        "import os.path as pth\n",
        "\n",
        "from multiprocessing import Pool\n",
        "from functools import partial\n",
        "\n",
        "from tqdm.notebook import tqdm\n",
        "\n",
        "import zipfile"
      ],
      "execution_count": 1,
      "outputs": []
    },
    {
      "cell_type": "code",
      "metadata": {
        "id": "UCsD4y3iErg5",
        "colab_type": "code",
        "colab": {}
      },
      "source": [
        "def download_file_from_google_drive(id_, destination):\n",
        "    URL = \"https://docs.google.com/uc?export=download\"\n",
        "\n",
        "    session = requests.Session()\n",
        "    response = session.get(URL, params = { 'id' : id_ }, stream = True)\n",
        "    token = get_confirm_token(response)\n",
        "    if token:\n",
        "        params = { 'id' : id_, 'confirm' : token }\n",
        "        response = session.get(URL, params = params, stream = True)\n",
        "        \n",
        "    basename = response.headers['Content-Disposition'].split(';')[1].split('filename=')[1].replace('\\\"', '')\n",
        "    full_dst_filenname = pth.join(destination, basename)\n",
        "    save_response_content(response, full_dst_filenname)\n",
        "    return full_dst_filenname\n",
        "\n",
        "def get_confirm_token(response):\n",
        "    for key, value in response.cookies.items():\n",
        "        if key.startswith('download_warning'):\n",
        "            return value\n",
        "\n",
        "    return None\n",
        "\n",
        "def save_response_content(response, destination):\n",
        "    CHUNK_SIZE = 32768\n",
        "    with open(destination, \"wb\") as f:\n",
        "        for chunk in response.iter_content(CHUNK_SIZE):\n",
        "            if chunk: # filter out keep-alive new chunks\n",
        "                f.write(chunk)"
      ],
      "execution_count": 2,
      "outputs": []
    },
    {
      "cell_type": "code",
      "metadata": {
        "id": "P16DSk1nErjP",
        "colab_type": "code",
        "colab": {}
      },
      "source": [
        "file_id_list = [\n",
        "    '1teoTI59iNyk5zEIpYA6zvzkVfhxSaN5O',\n",
        "    '1DwENW_2csGmZ74vuKAJKuSGwSw0ONHG9',\n",
        "    '1S9XCeRbvfO0wNnVXyO3-3AuIm-ukSX6Q',\n",
        "    '1FCoMm9E5uoE01-YMfndLYoPNnJrapsth',\n",
        "]"
      ],
      "execution_count": 3,
      "outputs": []
    },
    {
      "cell_type": "code",
      "metadata": {
        "id": "sCBoJixZErlx",
        "colab_type": "code",
        "colab": {
          "base_uri": "https://localhost:8080/",
          "height": 138,
          "referenced_widgets": [
            "a9e600b08d6c4710b2c74e71b8667492",
            "455309e11fd64ac6a874c3c0d416a354",
            "dec725d453c7479e80790b4b97e2f298",
            "d0739e047d1a4b5985aa137b19114773",
            "7d19e9c8d773491c9743113aabce9138",
            "b4d1a216256842d09a2c2ce58a178061",
            "612a1f37491b41e89cfe99bf4a801495",
            "fea6df3653e04587be456a4d59b3b46a"
          ]
        },
        "outputId": "f77527c7-fda5-438c-a9a1-3120e481c0ee"
      },
      "source": [
        "destination = 'data' ### YOUR_DOWNLOAD_PATH\n",
        "os.makedirs(destination, exist_ok=True)\n",
        "\n",
        "filename_list = []\n",
        "\n",
        "# ### Use single process\n",
        "# for file_id in file_id_list:\n",
        "#     filename = download_file_from_google_drive(id_=file_id, destination=destination)\n",
        "#     print('{} is done!'.format(filename))\n",
        "#     filename_list.append(filename)\n",
        "\n",
        "### If you want to download more faster\n",
        "download_func = partial(download_file_from_google_drive, destination=destination)\n",
        "with Pool(4) as pool:\n",
        "    for i, filename in tqdm(enumerate(pool.imap_unordered(download_func, file_id_list)), total=len(file_id_list)):\n",
        "        print('{} is done!'.format(filename))\n",
        "        filename_list.append(filename)"
      ],
      "execution_count": 4,
      "outputs": [
        {
          "output_type": "display_data",
          "data": {
            "application/vnd.jupyter.widget-view+json": {
              "model_id": "a9e600b08d6c4710b2c74e71b8667492",
              "version_minor": 0,
              "version_major": 2
            },
            "text/plain": [
              "HBox(children=(FloatProgress(value=0.0, max=4.0), HTML(value='')))"
            ]
          },
          "metadata": {
            "tags": []
          }
        },
        {
          "output_type": "stream",
          "text": [
            "data/submission.csv is done!\n",
            "data/train_answer.csv is done!\n",
            "data/test.zip is done!\n",
            "data/train.zip is done!\n",
            "\n"
          ],
          "name": "stdout"
        }
      ]
    },
    {
      "cell_type": "code",
      "metadata": {
        "id": "jaHREf7nErn-",
        "colab_type": "code",
        "colab": {
          "base_uri": "https://localhost:8080/",
          "height": 102,
          "referenced_widgets": [
            "8b8092339f194d9db2e59f126140ff00",
            "c217b88380d0401bad94a6e9c0c1a162",
            "db600a71988a43389423f98ca2f46613",
            "3feeb436563f4c80b110a1352e79f869",
            "273afa3eae6440449da38c0845f745f2",
            "4fa3aefacdbc4950bd87b36d9fed3952",
            "5246750bc2d245c1a72d3758d64b1c3e",
            "2a3db867179a4bfc86fd00613d67d862"
          ]
        },
        "outputId": "a6ea87db-bb7d-4199-899c-617567ec3d35"
      },
      "source": [
        "zip_filename_list = [filename for filename in filename_list if filename.endswith('.zip')]\n",
        "    \n",
        "for zip_filename in tqdm(zip_filename_list):\n",
        "    with zipfile.ZipFile(zip_filename) as target_zip:\n",
        "        dest_path = pth.splitext(zip_filename)[0]\n",
        "        os.makedirs(dest_path, exist_ok=True)\n",
        "        target_zip.extractall(dest_path)\n",
        "        print('{} is done!'.format(dest_path))"
      ],
      "execution_count": 5,
      "outputs": [
        {
          "output_type": "display_data",
          "data": {
            "application/vnd.jupyter.widget-view+json": {
              "model_id": "8b8092339f194d9db2e59f126140ff00",
              "version_minor": 0,
              "version_major": 2
            },
            "text/plain": [
              "HBox(children=(FloatProgress(value=0.0, max=2.0), HTML(value='')))"
            ]
          },
          "metadata": {
            "tags": []
          }
        },
        {
          "output_type": "stream",
          "text": [
            "data/test is done!\n",
            "data/train is done!\n",
            "\n"
          ],
          "name": "stdout"
        }
      ]
    },
    {
      "cell_type": "code",
      "metadata": {
        "id": "2BcPep9qGK-f",
        "colab_type": "code",
        "colab": {
          "base_uri": "https://localhost:8080/",
          "height": 179
        },
        "outputId": "d08de77a-55a8-4ab4-88b4-511920260126"
      },
      "source": [
        "!pip install torchaudio"
      ],
      "execution_count": 11,
      "outputs": [
        {
          "output_type": "stream",
          "text": [
            "Collecting torchaudio\n",
            "\u001b[?25l  Downloading https://files.pythonhosted.org/packages/e9/0a/40e53c686c2af65b2a4e818d11d9b76fa79178440caf99f3ceb2a32c3b04/torchaudio-0.5.1-cp36-cp36m-manylinux1_x86_64.whl (3.2MB)\n",
            "\u001b[K     |████████████████████████████████| 3.2MB 2.8MB/s \n",
            "\u001b[?25hRequirement already satisfied: torch==1.5.1 in /usr/local/lib/python3.6/dist-packages (from torchaudio) (1.5.1+cu101)\n",
            "Requirement already satisfied: future in /usr/local/lib/python3.6/dist-packages (from torch==1.5.1->torchaudio) (0.16.0)\n",
            "Requirement already satisfied: numpy in /usr/local/lib/python3.6/dist-packages (from torch==1.5.1->torchaudio) (1.18.5)\n",
            "Installing collected packages: torchaudio\n",
            "Successfully installed torchaudio-0.5.1\n"
          ],
          "name": "stdout"
        }
      ]
    },
    {
      "cell_type": "code",
      "metadata": {
        "id": "J_jFJNbUFCEx",
        "colab_type": "code",
        "colab": {
          "base_uri": "https://localhost:8080/",
          "height": 35
        },
        "outputId": "16e57708-419e-4f48-88a5-756a62497fef"
      },
      "source": [
        "import os\n",
        "import pandas as pd\n",
        "import numpy as np\n",
        "import matplotlib.pyplot as plt\n",
        "import scipy\n",
        "import tensorflow as tf\n",
        "import keras\n",
        "from tqdm import tqdm\n",
        "from glob import glob\n",
        "from scipy.io import wavfile\n",
        "from keras.models import Sequential\n",
        "from keras.layers import Dense, Conv1D, MaxPooling1D, Flatten, BatchNormalization\n",
        "from keras.callbacks import ModelCheckpoint, EarlyStopping"
      ],
      "execution_count": 16,
      "outputs": [
        {
          "output_type": "stream",
          "text": [
            "Using TensorFlow backend.\n"
          ],
          "name": "stderr"
        }
      ]
    },
    {
      "cell_type": "code",
      "metadata": {
        "id": "hQM8hcyOGHhJ",
        "colab_type": "code",
        "colab": {}
      },
      "source": [
        "def data_loader(files):\n",
        "    out = []\n",
        "    for file in tqdm(files):\n",
        "        fs, data = wavfile.read(file)\n",
        "        out.append(data)    \n",
        "    out = np.array(out)\n",
        "    return out"
      ],
      "execution_count": 17,
      "outputs": []
    },
    {
      "cell_type": "code",
      "metadata": {
        "id": "bJ2zVL9hGHjz",
        "colab_type": "code",
        "colab": {
          "base_uri": "https://localhost:8080/",
          "height": 52
        },
        "outputId": "2ccb79eb-092b-425b-b02a-ea8bdaa43464"
      },
      "source": [
        "# Wav 파일로부터 Feature를 만듭니다.\n",
        "x_data = glob('data/train/*.wav')\n",
        "x_data = data_loader(x_data)\n",
        "x_data = x_data[:, ::8] # 매 8번째 데이터만 사용\n",
        "x_data = x_data / 30000 # 최대값 30,000 을 나누어 데이터 정규화\n",
        "x_data = x_data.reshape(x_data.shape[0], x_data.shape[1], 1) # CNN 모델에 넣기 위한 데이터 shape 변경\n",
        "\n",
        "# 정답 값을 불러옵니다\n",
        "y_data = pd.read_csv('data/train_answer.csv', index_col=0)\n",
        "y_data = y_data.values\n",
        "\n",
        "# Feature, Label Shape을 확인합니다.\n",
        "x_data.shape, y_data.shape"
      ],
      "execution_count": 18,
      "outputs": [
        {
          "output_type": "stream",
          "text": [
            "100%|██████████| 100000/100000 [00:06<00:00, 14745.10it/s]\n"
          ],
          "name": "stderr"
        },
        {
          "output_type": "execute_result",
          "data": {
            "text/plain": [
              "((100000, 2000, 1), (100000, 30))"
            ]
          },
          "metadata": {
            "tags": []
          },
          "execution_count": 18
        }
      ]
    },
    {
      "cell_type": "code",
      "metadata": {
        "id": "YI03fO0zIZyi",
        "colab_type": "code",
        "colab": {}
      },
      "source": [
        "# 모델을 만듭니다.\n",
        "model = Sequential()\n",
        "model.add(Conv1D(16, 32, activation='relu', input_shape=(x_data.shape[1], x_data.shape[2])))\n",
        "model.add(MaxPooling1D())\n",
        "model.add(Conv1D(16, 32, activation='relu'))\n",
        "model.add(MaxPooling1D())\n",
        "model.add(Conv1D(16, 32, activation='relu'))\n",
        "model.add(MaxPooling1D())\n",
        "model.add(Conv1D(16, 32, activation='relu'))\n",
        "model.add(MaxPooling1D())\n",
        "model.add(Conv1D(16, 32, activation='relu'))\n",
        "model.add(MaxPooling1D())\n",
        "model.add(Flatten())\n",
        "model.add(Dense(256, activation='relu'))\n",
        "model.add(BatchNormalization())\n",
        "model.add(Dense(256, activation='relu'))\n",
        "model.add(BatchNormalization())\n",
        "model.add(Dense(256, activation='relu'))\n",
        "model.add(BatchNormalization())\n",
        "model.add(Dense(30, activation='softmax'))\n",
        "model.compile(loss=tf.keras.losses.KLDivergence(), optimizer='adam')"
      ],
      "execution_count": 19,
      "outputs": []
    },
    {
      "cell_type": "code",
      "metadata": {
        "id": "UnVdspOgIZ-E",
        "colab_type": "code",
        "colab": {
          "base_uri": "https://localhost:8080/",
          "height": 1000
        },
        "outputId": "41fcd723-2166-4151-98a7-e91c39f2274a"
      },
      "source": [
        "# 모델 폴더를 생성합니다.\n",
        "model_path = 'model/'\n",
        "if not os.path.exists(model_path):\n",
        "  os.mkdir(model_path)\n",
        "\n",
        "# Validation 점수가 가장 좋은 모델만 저장합니다.\n",
        "model_file_path = model_path + 'Epoch_{epoch:03d}_Val_{val_loss:.3f}.hdf5'\n",
        "checkpoint = ModelCheckpoint(filepath=model_file_path, monitor='val_loss', verbose=1, save_best_only=True)\n",
        "\n",
        "# 10회 간 Validation 점수가 좋아지지 않으면 중지합니다.\n",
        "early_stopping = EarlyStopping(monitor='val_loss', patience=10)\n",
        "\n",
        "# 모델을 학습시킵니다.\n",
        "history = model.fit(\n",
        "    x_data, y_data, \n",
        "    epochs=100, batch_size=256, validation_split=0.2, shuffle=True,\n",
        "    callbacks=[checkpoint, early_stopping]\n",
        ")"
      ],
      "execution_count": 20,
      "outputs": [
        {
          "output_type": "stream",
          "text": [
            "Train on 80000 samples, validate on 20000 samples\n",
            "Epoch 1/100\n",
            "80000/80000 [==============================] - 28s 344us/step - loss: 2.1233 - val_loss: 2.0893\n",
            "\n",
            "Epoch 00001: val_loss improved from inf to 2.08926, saving model to model/Epoch_001_Val_2.089.hdf5\n",
            "Epoch 2/100\n",
            "80000/80000 [==============================] - 18s 225us/step - loss: 2.0878 - val_loss: 2.0889\n",
            "\n",
            "Epoch 00002: val_loss improved from 2.08926 to 2.08893, saving model to model/Epoch_002_Val_2.089.hdf5\n",
            "Epoch 3/100\n",
            "80000/80000 [==============================] - 18s 226us/step - loss: 2.0848 - val_loss: 2.0887\n",
            "\n",
            "Epoch 00003: val_loss improved from 2.08893 to 2.08873, saving model to model/Epoch_003_Val_2.089.hdf5\n",
            "Epoch 4/100\n",
            "80000/80000 [==============================] - 19s 241us/step - loss: 2.0835 - val_loss: 2.0903\n",
            "\n",
            "Epoch 00004: val_loss did not improve from 2.08873\n",
            "Epoch 5/100\n",
            "80000/80000 [==============================] - 18s 229us/step - loss: 2.0832 - val_loss: 2.0891\n",
            "\n",
            "Epoch 00005: val_loss did not improve from 2.08873\n",
            "Epoch 6/100\n",
            "80000/80000 [==============================] - 18s 220us/step - loss: 2.0824 - val_loss: 2.0855\n",
            "\n",
            "Epoch 00006: val_loss improved from 2.08873 to 2.08553, saving model to model/Epoch_006_Val_2.086.hdf5\n",
            "Epoch 7/100\n",
            "80000/80000 [==============================] - 19s 236us/step - loss: 2.0821 - val_loss: 2.0923\n",
            "\n",
            "Epoch 00007: val_loss did not improve from 2.08553\n",
            "Epoch 8/100\n",
            "80000/80000 [==============================] - 19s 232us/step - loss: 2.0819 - val_loss: 2.0870\n",
            "\n",
            "Epoch 00008: val_loss did not improve from 2.08553\n",
            "Epoch 9/100\n",
            "80000/80000 [==============================] - 17s 218us/step - loss: 2.0814 - val_loss: 2.0875\n",
            "\n",
            "Epoch 00009: val_loss did not improve from 2.08553\n",
            "Epoch 10/100\n",
            "80000/80000 [==============================] - 18s 227us/step - loss: 2.0808 - val_loss: 2.0930\n",
            "\n",
            "Epoch 00010: val_loss did not improve from 2.08553\n",
            "Epoch 11/100\n",
            "80000/80000 [==============================] - 19s 239us/step - loss: 2.0800 - val_loss: 2.0902\n",
            "\n",
            "Epoch 00011: val_loss did not improve from 2.08553\n",
            "Epoch 12/100\n",
            "80000/80000 [==============================] - 17s 218us/step - loss: 2.0800 - val_loss: 2.0958\n",
            "\n",
            "Epoch 00012: val_loss did not improve from 2.08553\n",
            "Epoch 13/100\n",
            "80000/80000 [==============================] - 18s 224us/step - loss: 2.0798 - val_loss: 2.0875\n",
            "\n",
            "Epoch 00013: val_loss did not improve from 2.08553\n",
            "Epoch 14/100\n",
            "80000/80000 [==============================] - 19s 236us/step - loss: 2.0788 - val_loss: 2.0937\n",
            "\n",
            "Epoch 00014: val_loss did not improve from 2.08553\n",
            "Epoch 15/100\n",
            "80000/80000 [==============================] - 18s 226us/step - loss: 2.0780 - val_loss: 2.0912\n",
            "\n",
            "Epoch 00015: val_loss did not improve from 2.08553\n",
            "Epoch 16/100\n",
            "80000/80000 [==============================] - 18s 219us/step - loss: 2.0771 - val_loss: 2.1039\n",
            "\n",
            "Epoch 00016: val_loss did not improve from 2.08553\n"
          ],
          "name": "stdout"
        }
      ]
    },
    {
      "cell_type": "code",
      "metadata": {
        "id": "YACoZUBQIuFi",
        "colab_type": "code",
        "colab": {
          "base_uri": "https://localhost:8080/",
          "height": 279
        },
        "outputId": "68bcb61b-6cc6-4bfa-d214-74d4a56aff3a"
      },
      "source": [
        "# 훈련 결과를 확인합니다.\n",
        "plt.plot(history.epoch, history.history['loss'], '-o', label='training_loss')\n",
        "plt.plot(history.epoch, history.history['val_loss'], '-o', label='validation_loss')\n",
        "plt.legend()\n",
        "plt.xlim(left=0)\n",
        "plt.xlabel('epochs')\n",
        "plt.ylabel('loss')\n",
        "plt.show()"
      ],
      "execution_count": 21,
      "outputs": [
        {
          "output_type": "display_data",
          "data": {
            "image/png": "[encoded data removed]",
            "text/plain": [
              "<Figure size 432x288 with 1 Axes>"
            ]
          },
          "metadata": {
            "tags": [],
            "needs_background": "light"
          }
        }
      ]
    },
    {
      "cell_type": "code",
      "metadata": {
        "id": "ktGar5zEIwIS",
        "colab_type": "code",
        "colab": {
          "base_uri": "https://localhost:8080/",
          "height": 52
        },
        "outputId": "f60f09de-623c-4970-e394-d9cd643325bd"
      },
      "source": [
        "# 검증 wav 파일로부터 Feature를 만듭니다.\n",
        "x_test = glob('data/test/*.wav')\n",
        "x_test = data_loader(x_test)\n",
        "x_test = x_test / 30000\n",
        "x_test = x_test[:, ::8]\n",
        "x_test = x_test.reshape(x_test.shape[0], x_test.shape[1], 1)\n",
        "\n",
        "# 가장 좋은 모델의 weight를 불러옵니다.\n",
        "weigth_file = glob('model/*.hdf5')[-1]\n",
        "print(weigth_file)\n",
        "model.load_weights(weigth_file)\n",
        "\n",
        "# 예측 수행\n",
        "y_pred = model.predict(x_test)\n",
        "\n",
        "# 예측 결과로 제출 파일을 생성합니다.\n",
        "submission = pd.read_csv('data/submission.csv', index_col=0)\n",
        "submission.loc[:, :] = y_pred\n",
        "submission.to_csv('submission.csv')"
      ],
      "execution_count": 22,
      "outputs": [
        {
          "output_type": "stream",
          "text": [
            "100%|██████████| 10000/10000 [00:11<00:00, 901.03it/s]\n"
          ],
          "name": "stderr"
        },
        {
          "output_type": "stream",
          "text": [
            "model/Epoch_002_Val_2.089.hdf5\n"
          ],
          "name": "stdout"
        }
      ]
    }
  ]
}