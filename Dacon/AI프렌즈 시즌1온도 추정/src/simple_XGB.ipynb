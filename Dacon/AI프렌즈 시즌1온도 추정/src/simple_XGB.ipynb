{
  "nbformat": 4,
  "nbformat_minor": 0,
  "metadata": {
    "colab": {
      "name": "XGB.ipynb",
      "provenance": []
    },
    "kernelspec": {
      "name": "python3",
      "display_name": "Python 3"
    },
    "accelerator": "GPU"
  },
  "cells": [
    {
      "cell_type": "code",
      "metadata": {
        "id": "ndwmtvPwMkt1",
        "colab_type": "code",
        "colab": {}
      },
      "source": [
        "import pandas as pd\n",
        "import numpy as np\n",
        "import matplotlib.pyplot as plt\n",
        "import seaborn as sns \n",
        "%matplotlib inline"
      ],
      "execution_count": 0,
      "outputs": []
    },
    {
      "cell_type": "code",
      "metadata": {
        "id": "jSHQ4ykzMxFA",
        "colab_type": "code",
        "colab": {}
      },
      "source": [
        "train_ = pd.read_csv('train.csv',index_col=0)\n",
        "test_ = pd. read_csv('test.csv',index_col=0)\n",
        "sample_submission = pd.read_csv('sample_submission.csv', index_col=0)"
      ],
      "execution_count": 0,
      "outputs": []
    },
    {
      "cell_type": "code",
      "metadata": {
        "id": "FfQYLz9YMxHa",
        "colab_type": "code",
        "colab": {}
      },
      "source": [
        "train=train_.copy()\n",
        "test=test_.copy()"
      ],
      "execution_count": 0,
      "outputs": []
    },
    {
      "cell_type": "code",
      "metadata": {
        "id": "UJUyKoVQMxKI",
        "colab_type": "code",
        "colab": {}
      },
      "source": [
        "tp =0\n",
        "k=0"
      ],
      "execution_count": 0,
      "outputs": []
    },
    {
      "cell_type": "code",
      "metadata": {
        "id": "f2ZvibHxMxMo",
        "colab_type": "code",
        "outputId": "7ff1b1bb-e1bd-4f31-c187-01af99de3a2d",
        "colab": {
          "base_uri": "https://localhost:8080/",
          "height": 35
        }
      },
      "source": [
        "cols = train.columns\n"
      ],
      "execution_count": 0,
      "outputs": [
        {
          "output_type": "stream",
          "text": [
            "59\n"
          ],
          "name": "stdout"
        }
      ]
    },
    {
      "cell_type": "code",
      "metadata": {
        "id": "ZuBKrsAKMxO_",
        "colab_type": "code",
        "colab": {}
      },
      "source": [
        "for i, col in enumerate(cols):\n",
        "  if i > 39 and i < 58:\n",
        "    tp += train.iloc[0:4320,i]\n",
        "    k+=1"
      ],
      "execution_count": 0,
      "outputs": []
    },
    {
      "cell_type": "code",
      "metadata": {
        "id": "UmXIbN_hMxRb",
        "colab_type": "code",
        "colab": {}
      },
      "source": [
        "tmp = tp/k"
      ],
      "execution_count": 0,
      "outputs": []
    },
    {
      "cell_type": "code",
      "metadata": {
        "id": "-GsAF4h6MxTy",
        "colab_type": "code",
        "colab": {}
      },
      "source": [
        "train.iloc[0:4320,58] = tmp"
      ],
      "execution_count": 0,
      "outputs": []
    },
    {
      "cell_type": "code",
      "metadata": {
        "id": "fMY-CzQvbY63",
        "colab_type": "code",
        "outputId": "9f3c7a0e-8278-4f0b-dea7-4cb858931da4",
        "colab": {
          "base_uri": "https://localhost:8080/",
          "height": 479
        }
      },
      "source": [
        "print(train['Y18'])\n",
        "train.loc[:,\"Y00\":\"Y17\"].mean(axis=1)"
      ],
      "execution_count": 0,
      "outputs": [
        {
          "output_type": "stream",
          "text": [
            "id\n",
            "0       10.666667\n",
            "1       10.444444\n",
            "2       10.166667\n",
            "3       10.000000\n",
            "4        9.833333\n",
            "          ...    \n",
            "4747    21.500000\n",
            "4748    21.500000\n",
            "4749    21.500000\n",
            "4750    21.500000\n",
            "4751    21.000000\n",
            "Name: Y18, Length: 4752, dtype: float64\n"
          ],
          "name": "stdout"
        },
        {
          "output_type": "execute_result",
          "data": {
            "text/plain": [
              "id\n",
              "0       10.666667\n",
              "1       10.444444\n",
              "2       10.166667\n",
              "3       10.000000\n",
              "4        9.833333\n",
              "          ...    \n",
              "4747          NaN\n",
              "4748          NaN\n",
              "4749          NaN\n",
              "4750          NaN\n",
              "4751          NaN\n",
              "Length: 4752, dtype: float64"
            ]
          },
          "metadata": {
            "tags": []
          },
          "execution_count": 14
        }
      ]
    },
    {
      "cell_type": "code",
      "metadata": {
        "id": "AKDnlMSjMxWN",
        "colab_type": "code",
        "outputId": "6b122f4e-e37d-4ef8-c7ab-4c593b949e2e",
        "colab": {
          "base_uri": "https://localhost:8080/",
          "height": 1000
        }
      },
      "source": [
        "for i in range(40):\n",
        "  print(train.iloc[:,i].head())"
      ],
      "execution_count": 0,
      "outputs": [
        {
          "output_type": "stream",
          "text": [
            "id\n",
            "0    9.7\n",
            "1    9.3\n",
            "2    9.4\n",
            "3    9.4\n",
            "4    9.2\n",
            "Name: X00, dtype: float64\n",
            "id\n",
            "0    988.8\n",
            "1    988.9\n",
            "2    989.0\n",
            "3    988.9\n",
            "4    988.9\n",
            "Name: X01, dtype: float64\n",
            "id\n",
            "0    1.2\n",
            "1    1.7\n",
            "2    1.1\n",
            "3    1.5\n",
            "4    0.8\n",
            "Name: X02, dtype: float64\n",
            "id\n",
            "0    0.6\n",
            "1    1.9\n",
            "2    2.3\n",
            "3    0.7\n",
            "4    1.7\n",
            "Name: X03, dtype: float64\n",
            "id\n",
            "0    0.0\n",
            "1    0.0\n",
            "2    0.0\n",
            "3    0.0\n",
            "4    0.0\n",
            "Name: X04, dtype: float64\n",
            "id\n",
            "0    1009.3\n",
            "1    1009.3\n",
            "2    1009.2\n",
            "3    1009.2\n",
            "4    1009.2\n",
            "Name: X05, dtype: float64\n",
            "id\n",
            "0    989.6\n",
            "1    989.6\n",
            "2    989.7\n",
            "3    989.6\n",
            "4    989.7\n",
            "Name: X06, dtype: float64\n",
            "id\n",
            "0    12.2\n",
            "1    12.1\n",
            "2    12.1\n",
            "3    12.0\n",
            "4    12.0\n",
            "Name: X07, dtype: float64\n",
            "id\n",
            "0    1009.9\n",
            "1    1010.0\n",
            "2    1010.1\n",
            "3    1010.0\n",
            "4    1010.1\n",
            "Name: X08, dtype: float64\n",
            "id\n",
            "0    1009.8\n",
            "1    1009.9\n",
            "2    1010.1\n",
            "3    1010.0\n",
            "4    1010.0\n",
            "Name: X09, dtype: float64\n",
            "id\n",
            "0    0.0\n",
            "1    0.0\n",
            "2    0.0\n",
            "3    0.0\n",
            "4    0.0\n",
            "Name: X10, dtype: float64\n",
            "id\n",
            "0    0.0\n",
            "1    0.0\n",
            "2    0.0\n",
            "3    0.0\n",
            "4    0.0\n",
            "Name: X11, dtype: float64\n",
            "id\n",
            "0    82.4\n",
            "1    81.2\n",
            "2    86.1\n",
            "3    87.7\n",
            "4    88.9\n",
            "Name: X12, dtype: float64\n",
            "id\n",
            "0     71.3\n",
            "1    121.8\n",
            "2    232.0\n",
            "3      0.0\n",
            "4      0.0\n",
            "Name: X13, dtype: float64\n",
            "id\n",
            "0    0.0\n",
            "1    0.0\n",
            "2    0.0\n",
            "3    0.0\n",
            "4    0.0\n",
            "Name: X14, dtype: float64\n",
            "id\n",
            "0    101.1\n",
            "1    165.3\n",
            "2    144.0\n",
            "3    115.9\n",
            "4    124.7\n",
            "Name: X15, dtype: float64\n",
            "id\n",
            "0    0.0\n",
            "1    0.0\n",
            "2    0.0\n",
            "3    0.0\n",
            "4    0.0\n",
            "Name: X16, dtype: float64\n",
            "id\n",
            "0     56.1\n",
            "1      0.0\n",
            "2      0.0\n",
            "3    294.1\n",
            "4      0.0\n",
            "Name: X17, dtype: float64\n",
            "id\n",
            "0    0.3\n",
            "1    0.4\n",
            "2    0.6\n",
            "3    0.1\n",
            "4    0.0\n",
            "Name: X18, dtype: float64\n",
            "id\n",
            "0    0.0\n",
            "1    0.0\n",
            "2    0.0\n",
            "3    0.0\n",
            "4    0.0\n",
            "Name: X19, dtype: float64\n",
            "id\n",
            "0    91.0\n",
            "1    91.9\n",
            "2    93.3\n",
            "3    93.4\n",
            "4    94.1\n",
            "Name: X20, dtype: float64\n",
            "id\n",
            "0    0.0\n",
            "1    0.0\n",
            "2    0.0\n",
            "3    0.0\n",
            "4    0.0\n",
            "Name: X21, dtype: float64\n",
            "id\n",
            "0    1002.5\n",
            "1    1002.5\n",
            "2    1002.4\n",
            "3    1002.4\n",
            "4    1002.4\n",
            "Name: X22, dtype: float64\n",
            "id\n",
            "0    1009.8\n",
            "1    1009.9\n",
            "2    1009.8\n",
            "3    1009.7\n",
            "4    1009.7\n",
            "Name: X23, dtype: float64\n",
            "id\n",
            "0    1.1\n",
            "1    0.0\n",
            "2    0.0\n",
            "3    0.0\n",
            "4    0.0\n",
            "Name: X24, dtype: float64\n",
            "id\n",
            "0    2.3\n",
            "1    0.0\n",
            "2    0.0\n",
            "3    0.0\n",
            "4    0.0\n",
            "Name: X25, dtype: float64\n",
            "id\n",
            "0    0.5\n",
            "1    0.0\n",
            "2    0.0\n",
            "3    0.2\n",
            "4    0.0\n",
            "Name: X26, dtype: float64\n",
            "id\n",
            "0    1008.7\n",
            "1    1008.7\n",
            "2    1008.6\n",
            "3    1008.7\n",
            "4    1008.7\n",
            "Name: X27, dtype: float64\n",
            "id\n",
            "0    12.3\n",
            "1    12.1\n",
            "2    12.1\n",
            "3    12.1\n",
            "4    12.0\n",
            "Name: X28, dtype: float64\n",
            "id\n",
            "0    1001.6\n",
            "1    1001.7\n",
            "2    1001.6\n",
            "3    1001.5\n",
            "4    1001.5\n",
            "Name: X29, dtype: float64\n",
            "id\n",
            "0    69.1\n",
            "1    70.3\n",
            "2    71.5\n",
            "3    73.2\n",
            "4    74.3\n",
            "Name: X30, dtype: float64\n",
            "id\n",
            "0    8.2\n",
            "1    8.3\n",
            "2    8.0\n",
            "3    7.7\n",
            "4    7.4\n",
            "Name: X31, dtype: float64\n",
            "id\n",
            "0    10.7\n",
            "1    10.3\n",
            "2     9.7\n",
            "3     9.4\n",
            "4     9.4\n",
            "Name: X32, dtype: float64\n",
            "id\n",
            "0    1010.1\n",
            "1    1010.1\n",
            "2    1010.0\n",
            "3    1010.1\n",
            "4    1010.1\n",
            "Name: X33, dtype: float64\n",
            "id\n",
            "0    0.0\n",
            "1    0.0\n",
            "2    0.0\n",
            "3    0.0\n",
            "4    0.0\n",
            "Name: X34, dtype: float64\n",
            "id\n",
            "0    256.4\n",
            "1    215.4\n",
            "2    235.2\n",
            "3    214.0\n",
            "4    174.9\n",
            "Name: X35, dtype: float64\n",
            "id\n",
            "0    0.0\n",
            "1    0.0\n",
            "2    0.0\n",
            "3    0.0\n",
            "4    0.0\n",
            "Name: X36, dtype: float64\n",
            "id\n",
            "0    77.2\n",
            "1    77.3\n",
            "2    77.3\n",
            "3    77.5\n",
            "4    78.0\n",
            "Name: X37, dtype: float64\n",
            "id\n",
            "0    62.6\n",
            "1    63.5\n",
            "2    63.9\n",
            "3    64.5\n",
            "4    65.0\n",
            "Name: X38, dtype: float64\n",
            "id\n",
            "0    0.0\n",
            "1    0.0\n",
            "2    0.0\n",
            "3    0.0\n",
            "4    0.0\n",
            "Name: X39, dtype: float64\n"
          ],
          "name": "stdout"
        }
      ]
    },
    {
      "cell_type": "code",
      "metadata": {
        "id": "4Olc7zNDMxYo",
        "colab_type": "code",
        "colab": {}
      },
      "source": [
        "x=train.iloc[:,:40]\n",
        "y=train.iloc[:,-1]"
      ],
      "execution_count": 0,
      "outputs": []
    },
    {
      "cell_type": "code",
      "metadata": {
        "id": "69oPW1mVMxbK",
        "colab_type": "code",
        "colab": {}
      },
      "source": [
        "test_x = test.iloc[:,:40]"
      ],
      "execution_count": 0,
      "outputs": []
    },
    {
      "cell_type": "code",
      "metadata": {
        "id": "veZ_gONkMxdn",
        "colab_type": "code",
        "colab": {}
      },
      "source": [
        "from sklearn.model_selection import train_test_split, KFold, RandomizedSearchCV\n",
        "from sklearn.model_selection import StratifiedShuffleSplit, ShuffleSplit\n",
        "\n",
        "x_train, x_test, y_train, y_test = train_test_split(x,y, train_size=0.8, shuffle=False) #random_state=0)"
      ],
      "execution_count": 0,
      "outputs": []
    },
    {
      "cell_type": "code",
      "metadata": {
        "id": "Gsi2jRH2OpXo",
        "colab_type": "code",
        "outputId": "cc66f2d8-744f-4078-ba50-ae5a90ae528e",
        "colab": {
          "base_uri": "https://localhost:8080/",
          "height": 375
        }
      },
      "source": [
        "!pip install catboost"
      ],
      "execution_count": 0,
      "outputs": [
        {
          "output_type": "stream",
          "text": [
            "Collecting catboost\n",
            "\u001b[?25l  Downloading https://files.pythonhosted.org/packages/94/ec/12b9a42b2ea7dfe5b602f235692ab2b61ee1334ff34334a15902272869e8/catboost-0.22-cp36-none-manylinux1_x86_64.whl (64.4MB)\n",
            "\u001b[K     |████████████████████████████████| 64.4MB 66kB/s \n",
            "\u001b[?25hRequirement already satisfied: graphviz in /usr/local/lib/python3.6/dist-packages (from catboost) (0.10.1)\n",
            "Requirement already satisfied: plotly in /usr/local/lib/python3.6/dist-packages (from catboost) (4.4.1)\n",
            "Requirement already satisfied: six in /usr/local/lib/python3.6/dist-packages (from catboost) (1.12.0)\n",
            "Requirement already satisfied: pandas>=0.24.0 in /usr/local/lib/python3.6/dist-packages (from catboost) (0.25.3)\n",
            "Requirement already satisfied: matplotlib in /usr/local/lib/python3.6/dist-packages (from catboost) (3.2.0)\n",
            "Requirement already satisfied: numpy>=1.16.0 in /usr/local/lib/python3.6/dist-packages (from catboost) (1.18.1)\n",
            "Requirement already satisfied: scipy in /usr/local/lib/python3.6/dist-packages (from catboost) (1.4.1)\n",
            "Requirement already satisfied: retrying>=1.3.3 in /usr/local/lib/python3.6/dist-packages (from plotly->catboost) (1.3.3)\n",
            "Requirement already satisfied: python-dateutil>=2.6.1 in /usr/local/lib/python3.6/dist-packages (from pandas>=0.24.0->catboost) (2.8.1)\n",
            "Requirement already satisfied: pytz>=2017.2 in /usr/local/lib/python3.6/dist-packages (from pandas>=0.24.0->catboost) (2018.9)\n",
            "Requirement already satisfied: cycler>=0.10 in /usr/local/lib/python3.6/dist-packages (from matplotlib->catboost) (0.10.0)\n",
            "Requirement already satisfied: pyparsing!=2.0.4,!=2.1.2,!=2.1.6,>=2.0.1 in /usr/local/lib/python3.6/dist-packages (from matplotlib->catboost) (2.4.6)\n",
            "Requirement already satisfied: kiwisolver>=1.0.1 in /usr/local/lib/python3.6/dist-packages (from matplotlib->catboost) (1.1.0)\n",
            "Requirement already satisfied: setuptools in /usr/local/lib/python3.6/dist-packages (from kiwisolver>=1.0.1->matplotlib->catboost) (45.2.0)\n",
            "Installing collected packages: catboost\n",
            "Successfully installed catboost-0.22\n"
          ],
          "name": "stdout"
        }
      ]
    },
    {
      "cell_type": "code",
      "metadata": {
        "id": "-M2l7IJ4MxgA",
        "colab_type": "code",
        "outputId": "fc611944-be1e-4eb0-972b-d798f67de09b",
        "colab": {
          "base_uri": "https://localhost:8080/",
          "height": 479
        }
      },
      "source": [
        "from sklearn.ensemble import RandomForestRegressor\n",
        "import lightgbm as lgbm\n",
        "import xgboost as xgb\n",
        "import catboost as cb\n",
        "\n",
        "from sklearn.metrics import r2_score, mean_squared_error\n",
        "\n",
        "params={ 'max_depth':3, 'n_estimators':2500,  'learning_rate': 0.007, \\\n",
        "        'boost_from_average': False, 'subsample': 1, 'loss_function':'RMSE', 'scale_pos_weight': 10,\n",
        "        'coal_sample_bytree':'0.75'}\n",
        "\n",
        "clf= xgb.XGBRegressor(**params)\n",
        "#clf = cb.CatBoostRegressor(**params)\n",
        "model=clf.fit(x_train,y_train, verbose=100)"
      ],
      "execution_count": 0,
      "outputs": [
        {
          "output_type": "stream",
          "text": [
            "0:\tlearn: 23.9134227\ttotal: 48.8ms\tremaining: 2m 1s\n",
            "100:\tlearn: 12.2395007\ttotal: 263ms\tremaining: 6.25s\n",
            "200:\tlearn: 6.4444403\ttotal: 492ms\tremaining: 5.63s\n",
            "300:\tlearn: 3.6218309\ttotal: 700ms\tremaining: 5.11s\n",
            "400:\tlearn: 2.2711625\ttotal: 908ms\tremaining: 4.75s\n",
            "500:\tlearn: 1.6540452\ttotal: 1.12s\tremaining: 4.48s\n",
            "600:\tlearn: 1.3808196\ttotal: 1.34s\tremaining: 4.22s\n",
            "700:\tlearn: 1.2553610\ttotal: 1.54s\tremaining: 3.95s\n",
            "800:\tlearn: 1.1824256\ttotal: 1.75s\tremaining: 3.71s\n",
            "900:\tlearn: 1.1323399\ttotal: 1.96s\tremaining: 3.48s\n",
            "1000:\tlearn: 1.0946016\ttotal: 2.17s\tremaining: 3.25s\n",
            "1100:\tlearn: 1.0610180\ttotal: 2.37s\tremaining: 3.02s\n",
            "1200:\tlearn: 1.0327977\ttotal: 2.58s\tremaining: 2.79s\n",
            "1300:\tlearn: 1.0060802\ttotal: 2.79s\tremaining: 2.57s\n",
            "1400:\tlearn: 0.9795994\ttotal: 3s\tremaining: 2.35s\n",
            "1500:\tlearn: 0.9567830\ttotal: 3.22s\tremaining: 2.14s\n",
            "1600:\tlearn: 0.9311709\ttotal: 3.42s\tremaining: 1.92s\n",
            "1700:\tlearn: 0.9060878\ttotal: 3.63s\tremaining: 1.71s\n",
            "1800:\tlearn: 0.8818401\ttotal: 3.84s\tremaining: 1.49s\n",
            "1900:\tlearn: 0.8631532\ttotal: 4.05s\tremaining: 1.28s\n",
            "2000:\tlearn: 0.8446494\ttotal: 4.26s\tremaining: 1.06s\n",
            "2100:\tlearn: 0.8278420\ttotal: 4.47s\tremaining: 849ms\n",
            "2200:\tlearn: 0.8118113\ttotal: 4.68s\tremaining: 636ms\n",
            "2300:\tlearn: 0.7959688\ttotal: 4.89s\tremaining: 423ms\n",
            "2400:\tlearn: 0.7821622\ttotal: 5.11s\tremaining: 211ms\n",
            "2499:\tlearn: 0.7685917\ttotal: 5.32s\tremaining: 0us\n"
          ],
          "name": "stdout"
        }
      ]
    },
    {
      "cell_type": "code",
      "metadata": {
        "id": "XjT3M_JYMxit",
        "colab_type": "code",
        "colab": {}
      },
      "source": [
        "y_pred = model.predict(x_test)"
      ],
      "execution_count": 0,
      "outputs": []
    },
    {
      "cell_type": "code",
      "metadata": {
        "id": "xG95AvXIMxl-",
        "colab_type": "code",
        "outputId": "85b78064-d3b3-4c9e-ab79-96dc7f28d768",
        "colab": {
          "base_uri": "https://localhost:8080/",
          "height": 35
        }
      },
      "source": [
        "print( r2_score(y_pred, y_test), mean_squared_error(y_pred, y_test))"
      ],
      "execution_count": 0,
      "outputs": [
        {
          "output_type": "stream",
          "text": [
            "0.8451655731609227 4.395189244141803\n"
          ],
          "name": "stdout"
        }
      ]
    },
    {
      "cell_type": "code",
      "metadata": {
        "id": "8J_n99WkPOcf",
        "colab_type": "code",
        "colab": {}
      },
      "source": [
        "pred = model.predict(test_x)"
      ],
      "execution_count": 0,
      "outputs": []
    },
    {
      "cell_type": "code",
      "metadata": {
        "id": "LliYMV2QPHbJ",
        "colab_type": "code",
        "colab": {}
      },
      "source": [
        "submission = pd.DataFrame(data=pred, columns=sample_submission.columns, index=sample_submission.index)\n",
        "submission.to_csv('submission.csv', index=True)"
      ],
      "execution_count": 0,
      "outputs": []
    },
    {
      "cell_type": "code",
      "metadata": {
        "id": "3ND5F-_cPvl5",
        "colab_type": "code",
        "outputId": "956e316a-7edb-4487-e17f-55f4fa5e09fc",
        "colab": {
          "base_uri": "https://localhost:8080/",
          "height": 441
        }
      },
      "source": [
        ""
      ],
      "execution_count": 0,
      "outputs": [
        {
          "output_type": "execute_result",
          "data": {
            "text/html": [
              "<div>\n",
              "<style scoped>\n",
              "    .dataframe tbody tr th:only-of-type {\n",
              "        vertical-align: middle;\n",
              "    }\n",
              "\n",
              "    .dataframe tbody tr th {\n",
              "        vertical-align: top;\n",
              "    }\n",
              "\n",
              "    .dataframe thead th {\n",
              "        text-align: right;\n",
              "    }\n",
              "</style>\n",
              "<table border=\"1\" class=\"dataframe\">\n",
              "  <thead>\n",
              "    <tr style=\"text-align: right;\">\n",
              "      <th></th>\n",
              "      <th>Y18</th>\n",
              "    </tr>\n",
              "    <tr>\n",
              "      <th>id</th>\n",
              "      <th></th>\n",
              "    </tr>\n",
              "  </thead>\n",
              "  <tbody>\n",
              "    <tr>\n",
              "      <th>4752</th>\n",
              "      <td>20.205627</td>\n",
              "    </tr>\n",
              "    <tr>\n",
              "      <th>4753</th>\n",
              "      <td>20.188625</td>\n",
              "    </tr>\n",
              "    <tr>\n",
              "      <th>4754</th>\n",
              "      <td>20.139517</td>\n",
              "    </tr>\n",
              "    <tr>\n",
              "      <th>4755</th>\n",
              "      <td>19.560398</td>\n",
              "    </tr>\n",
              "    <tr>\n",
              "      <th>4756</th>\n",
              "      <td>19.794329</td>\n",
              "    </tr>\n",
              "    <tr>\n",
              "      <th>...</th>\n",
              "      <td>...</td>\n",
              "    </tr>\n",
              "    <tr>\n",
              "      <th>16267</th>\n",
              "      <td>26.146971</td>\n",
              "    </tr>\n",
              "    <tr>\n",
              "      <th>16268</th>\n",
              "      <td>26.835278</td>\n",
              "    </tr>\n",
              "    <tr>\n",
              "      <th>16269</th>\n",
              "      <td>26.617311</td>\n",
              "    </tr>\n",
              "    <tr>\n",
              "      <th>16270</th>\n",
              "      <td>25.326712</td>\n",
              "    </tr>\n",
              "    <tr>\n",
              "      <th>16271</th>\n",
              "      <td>25.807226</td>\n",
              "    </tr>\n",
              "  </tbody>\n",
              "</table>\n",
              "<p>11520 rows × 1 columns</p>\n",
              "</div>"
            ],
            "text/plain": [
              "             Y18\n",
              "id              \n",
              "4752   20.205627\n",
              "4753   20.188625\n",
              "4754   20.139517\n",
              "4755   19.560398\n",
              "4756   19.794329\n",
              "...          ...\n",
              "16267  26.146971\n",
              "16268  26.835278\n",
              "16269  26.617311\n",
              "16270  25.326712\n",
              "16271  25.807226\n",
              "\n",
              "[11520 rows x 1 columns]"
            ]
          },
          "metadata": {
            "tags": []
          },
          "execution_count": 24
        }
      ]
    }
  ]
}